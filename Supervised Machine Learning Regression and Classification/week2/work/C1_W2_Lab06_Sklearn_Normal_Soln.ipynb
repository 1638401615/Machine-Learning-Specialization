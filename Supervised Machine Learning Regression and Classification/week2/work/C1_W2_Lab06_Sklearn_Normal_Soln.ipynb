{
 "cells": [
  {
   "cell_type": "markdown",
   "metadata": {},
   "source": [
    "# Optional Lab: Linear Regression using Scikit-Learn"
   ]
  },
  {
   "cell_type": "markdown",
   "metadata": {},
   "source": [
    "There is an open-source, commercially usable machine learning toolkit called [scikit-learn](https://scikit-learn.org/stable/index.html). This toolkit contains implementations of many of the algorithms that you will work with in this course.\n",
    "\n"
   ]
  },
  {
   "cell_type": "markdown",
   "metadata": {},
   "source": [
    "## Goals\n",
    "In this lab you will:\n",
    "- Utilize  scikit-learn to implement linear regression using a close form solution based on the normal equation"
   ]
  },
  {
   "cell_type": "markdown",
   "metadata": {},
   "source": [
    "## Tools\n",
    "You will utilize functions from scikit-learn as well as matplotlib and NumPy. "
   ]
  },
  {
   "cell_type": "code",
   "execution_count": 1,
   "metadata": {},
   "outputs": [],
   "source": [
    "import numpy as np\n",
    "np.set_printoptions(precision = 3)\n",
    "from sklearn.linear_model import LinearRegression, SGDRegressor\n",
    "from sklearn.preprocessing import StandardScaler\n",
    "from lab_utils_multi import  load_house_data\n",
    "import matplotlib.pyplot as plt\n",
    "dlblue = '#0096ff'; dlorange = '#FF9300'; dldarkred='#C00000'; dlmagenta='#FF40FF'; dlpurple='#7030A0'; \n",
    "plt.style.use('./deeplearning.mplstyle')"
   ]
  },
  {
   "cell_type": "markdown",
   "metadata": {},
   "source": [
    "<a name=\"toc_40291_2\"></a>\n",
    "# Linear Regression, closed-form solution\n",
    "Scikit-learn has the [linear regression model](https://scikit-learn.org/stable/modules/generated/sklearn.linear_model.LinearRegression.html#sklearn.linear_model.LinearRegression) which implements a closed-form linear regression.\n",
    "\n",
    "Let's use the data from the early labs - a house with 1000 square feet sold for \\\\$300,000 and a house with 2000 square feet sold for \\\\$500,000.\n",
    "\n",
    "| Size (1000 sqft)     | Price (1000s of dollars) |\n",
    "| ----------------| ------------------------ |\n",
    "| 1               | 300                      |\n",
    "| 2               | 500                      |\n"
   ]
  },
  {
   "cell_type": "markdown",
   "metadata": {},
   "source": [
    "### Load the data set"
   ]
  },
  {
   "cell_type": "code",
   "execution_count": 2,
   "metadata": {},
   "outputs": [],
   "source": [
    "X_train = np.array([1.0, 2.0])   #features\n",
    "y_train = np.array([300, 500])   #target value"
   ]
  },
  {
   "cell_type": "markdown",
   "metadata": {},
   "source": [
    "### Create and fit the model\n",
    "The code below performs regression using scikit-learn. \n",
    "The first step creates a regression object.  \n",
    "The second step utilizes one of the methods associated with the object, `fit`. This performs regression, fitting the parameters to the input data. The toolkit expects a two-dimensional X matrix."
   ]
  },
  {
   "cell_type": "code",
   "execution_count": 3,
   "metadata": {},
   "outputs": [
    {
     "data": {
      "text/html": [
       "<style>#sk-container-id-1 {color: black;background-color: white;}#sk-container-id-1 pre{padding: 0;}#sk-container-id-1 div.sk-toggleable {background-color: white;}#sk-container-id-1 label.sk-toggleable__label {cursor: pointer;display: block;width: 100%;margin-bottom: 0;padding: 0.3em;box-sizing: border-box;text-align: center;}#sk-container-id-1 label.sk-toggleable__label-arrow:before {content: \"▸\";float: left;margin-right: 0.25em;color: #696969;}#sk-container-id-1 label.sk-toggleable__label-arrow:hover:before {color: black;}#sk-container-id-1 div.sk-estimator:hover label.sk-toggleable__label-arrow:before {color: black;}#sk-container-id-1 div.sk-toggleable__content {max-height: 0;max-width: 0;overflow: hidden;text-align: left;background-color: #f0f8ff;}#sk-container-id-1 div.sk-toggleable__content pre {margin: 0.2em;color: black;border-radius: 0.25em;background-color: #f0f8ff;}#sk-container-id-1 input.sk-toggleable__control:checked~div.sk-toggleable__content {max-height: 200px;max-width: 100%;overflow: auto;}#sk-container-id-1 input.sk-toggleable__control:checked~label.sk-toggleable__label-arrow:before {content: \"▾\";}#sk-container-id-1 div.sk-estimator input.sk-toggleable__control:checked~label.sk-toggleable__label {background-color: #d4ebff;}#sk-container-id-1 div.sk-label input.sk-toggleable__control:checked~label.sk-toggleable__label {background-color: #d4ebff;}#sk-container-id-1 input.sk-hidden--visually {border: 0;clip: rect(1px 1px 1px 1px);clip: rect(1px, 1px, 1px, 1px);height: 1px;margin: -1px;overflow: hidden;padding: 0;position: absolute;width: 1px;}#sk-container-id-1 div.sk-estimator {font-family: monospace;background-color: #f0f8ff;border: 1px dotted black;border-radius: 0.25em;box-sizing: border-box;margin-bottom: 0.5em;}#sk-container-id-1 div.sk-estimator:hover {background-color: #d4ebff;}#sk-container-id-1 div.sk-parallel-item::after {content: \"\";width: 100%;border-bottom: 1px solid gray;flex-grow: 1;}#sk-container-id-1 div.sk-label:hover label.sk-toggleable__label {background-color: #d4ebff;}#sk-container-id-1 div.sk-serial::before {content: \"\";position: absolute;border-left: 1px solid gray;box-sizing: border-box;top: 0;bottom: 0;left: 50%;z-index: 0;}#sk-container-id-1 div.sk-serial {display: flex;flex-direction: column;align-items: center;background-color: white;padding-right: 0.2em;padding-left: 0.2em;position: relative;}#sk-container-id-1 div.sk-item {position: relative;z-index: 1;}#sk-container-id-1 div.sk-parallel {display: flex;align-items: stretch;justify-content: center;background-color: white;position: relative;}#sk-container-id-1 div.sk-item::before, #sk-container-id-1 div.sk-parallel-item::before {content: \"\";position: absolute;border-left: 1px solid gray;box-sizing: border-box;top: 0;bottom: 0;left: 50%;z-index: -1;}#sk-container-id-1 div.sk-parallel-item {display: flex;flex-direction: column;z-index: 1;position: relative;background-color: white;}#sk-container-id-1 div.sk-parallel-item:first-child::after {align-self: flex-end;width: 50%;}#sk-container-id-1 div.sk-parallel-item:last-child::after {align-self: flex-start;width: 50%;}#sk-container-id-1 div.sk-parallel-item:only-child::after {width: 0;}#sk-container-id-1 div.sk-dashed-wrapped {border: 1px dashed gray;margin: 0 0.4em 0.5em 0.4em;box-sizing: border-box;padding-bottom: 0.4em;background-color: white;}#sk-container-id-1 div.sk-label label {font-family: monospace;font-weight: bold;display: inline-block;line-height: 1.2em;}#sk-container-id-1 div.sk-label-container {text-align: center;}#sk-container-id-1 div.sk-container {/* jupyter's `normalize.less` sets `[hidden] { display: none; }` but bootstrap.min.css set `[hidden] { display: none !important; }` so we also need the `!important` here to be able to override the default hidden behavior on the sphinx rendered scikit-learn.org. See: https://github.com/scikit-learn/scikit-learn/issues/21755 */display: inline-block !important;position: relative;}#sk-container-id-1 div.sk-text-repr-fallback {display: none;}</style><div id=\"sk-container-id-1\" class=\"sk-top-container\"><div class=\"sk-text-repr-fallback\"><pre>LinearRegression()</pre><b>In a Jupyter environment, please rerun this cell to show the HTML representation or trust the notebook. <br />On GitHub, the HTML representation is unable to render, please try loading this page with nbviewer.org.</b></div><div class=\"sk-container\" hidden><div class=\"sk-item\"><div class=\"sk-estimator sk-toggleable\"><input class=\"sk-toggleable__control sk-hidden--visually\" id=\"sk-estimator-id-1\" type=\"checkbox\" checked><label for=\"sk-estimator-id-1\" class=\"sk-toggleable__label sk-toggleable__label-arrow\">LinearRegression</label><div class=\"sk-toggleable__content\"><pre>LinearRegression()</pre></div></div></div></div></div>"
      ],
      "text/plain": [
       "LinearRegression()"
      ]
     },
     "execution_count": 3,
     "metadata": {},
     "output_type": "execute_result"
    }
   ],
   "source": [
    "linear_model = LinearRegression()\n",
    "#X must be a 2-D Matrix\n",
    "linear_model.fit(X_train.reshape(-1, 1), y_train) "
   ]
  },
  {
   "cell_type": "markdown",
   "metadata": {},
   "source": [
    "### View Parameters \n",
    "The $\\mathbf{w}$ and $\\mathbf{b}$ parameters are referred to as 'coefficients' and 'intercept' in scikit-learn."
   ]
  },
  {
   "cell_type": "code",
   "execution_count": 4,
   "metadata": {},
   "outputs": [
    {
     "name": "stdout",
     "output_type": "stream",
     "text": [
      "w = [200.], b = 100.00\n",
      "'manual' prediction: f_wb = wx+b : [240100.]\n"
     ]
    }
   ],
   "source": [
    "b = linear_model.intercept_\n",
    "w = linear_model.coef_\n",
    "print(f\"w = {w:}, b = {b:0.2f}\")\n",
    "print(f\"'manual' prediction: f_wb = wx+b : {1200*w + b}\")"
   ]
  },
  {
   "cell_type": "markdown",
   "metadata": {},
   "source": [
    "### Make Predictions\n",
    "\n",
    "Calling the `predict` function generates predictions."
   ]
  },
  {
   "cell_type": "code",
   "execution_count": 5,
   "metadata": {},
   "outputs": [
    {
     "name": "stdout",
     "output_type": "stream",
     "text": [
      "Prediction on training set: [300. 500.]\n",
      "Prediction for 1200 sqft house: $240100.00\n"
     ]
    }
   ],
   "source": [
    "y_pred = linear_model.predict(X_train.reshape(-1, 1))\n",
    "\n",
    "print(\"Prediction on training set:\", y_pred)\n",
    "\n",
    "X_test = np.array([[1200]])\n",
    "print(f\"Prediction for 1200 sqft house: ${linear_model.predict(X_test)[0]:0.2f}\")"
   ]
  },
  {
   "cell_type": "markdown",
   "metadata": {},
   "source": [
    "## Second Example\n",
    "The second example is from an earlier lab with multiple features. The final parameter values and predictions are very close to the results from the un-normalized 'long-run' from that lab. That un-normalized run took hours to produce results, while this is nearly instantaneous. The closed-form solution work well on smaller data sets such as these but can be computationally demanding on larger data sets. \n",
    ">The closed-form solution does not require normalization."
   ]
  },
  {
   "cell_type": "code",
   "execution_count": 10,
   "metadata": {},
   "outputs": [
    {
     "name": "stdout",
     "output_type": "stream",
     "text": [
      "[[1.244e+03 3.000e+00 1.000e+00 6.400e+01]\n",
      " [1.947e+03 3.000e+00 2.000e+00 1.700e+01]\n",
      " [1.725e+03 3.000e+00 2.000e+00 4.200e+01]\n",
      " [1.959e+03 3.000e+00 2.000e+00 1.500e+01]\n",
      " [1.314e+03 2.000e+00 1.000e+00 1.400e+01]\n",
      " [8.640e+02 2.000e+00 1.000e+00 6.600e+01]\n",
      " [1.836e+03 3.000e+00 1.000e+00 1.700e+01]\n",
      " [1.026e+03 3.000e+00 1.000e+00 4.300e+01]\n",
      " [3.194e+03 4.000e+00 2.000e+00 8.700e+01]\n",
      " [7.880e+02 2.000e+00 1.000e+00 8.000e+01]\n",
      " [1.200e+03 2.000e+00 2.000e+00 1.700e+01]\n",
      " [1.557e+03 2.000e+00 1.000e+00 1.800e+01]\n",
      " [1.430e+03 3.000e+00 1.000e+00 2.000e+01]\n",
      " [1.220e+03 2.000e+00 1.000e+00 1.500e+01]\n",
      " [1.092e+03 2.000e+00 1.000e+00 6.400e+01]\n",
      " [8.480e+02 1.000e+00 1.000e+00 1.700e+01]\n",
      " [1.682e+03 3.000e+00 2.000e+00 2.300e+01]\n",
      " [1.768e+03 3.000e+00 2.000e+00 1.800e+01]\n",
      " [1.040e+03 3.000e+00 1.000e+00 4.400e+01]\n",
      " [1.652e+03 2.000e+00 1.000e+00 2.100e+01]\n",
      " [1.088e+03 2.000e+00 1.000e+00 3.500e+01]\n",
      " [1.316e+03 3.000e+00 1.000e+00 1.400e+01]\n",
      " [1.593e+03 0.000e+00 1.000e+00 2.000e+01]\n",
      " [9.720e+02 2.000e+00 1.000e+00 7.300e+01]\n",
      " [1.097e+03 3.000e+00 1.000e+00 3.700e+01]\n",
      " [1.004e+03 2.000e+00 1.000e+00 5.100e+01]\n",
      " [9.040e+02 3.000e+00 1.000e+00 5.500e+01]\n",
      " [1.694e+03 3.000e+00 1.000e+00 1.300e+01]\n",
      " [1.073e+03 2.000e+00 1.000e+00 1.000e+02]\n",
      " [1.419e+03 3.000e+00 2.000e+00 1.900e+01]\n",
      " [1.164e+03 3.000e+00 1.000e+00 5.200e+01]\n",
      " [1.935e+03 3.000e+00 2.000e+00 1.200e+01]\n",
      " [1.216e+03 2.000e+00 2.000e+00 7.400e+01]\n",
      " [2.482e+03 4.000e+00 2.000e+00 1.600e+01]\n",
      " [1.200e+03 2.000e+00 1.000e+00 1.800e+01]\n",
      " [1.840e+03 3.000e+00 2.000e+00 2.000e+01]\n",
      " [1.851e+03 3.000e+00 2.000e+00 5.700e+01]\n",
      " [1.660e+03 3.000e+00 2.000e+00 1.900e+01]\n",
      " [1.096e+03 2.000e+00 2.000e+00 9.700e+01]\n",
      " [1.775e+03 3.000e+00 2.000e+00 2.800e+01]\n",
      " [2.030e+03 4.000e+00 2.000e+00 4.500e+01]\n",
      " [1.784e+03 4.000e+00 2.000e+00 1.070e+02]\n",
      " [1.073e+03 2.000e+00 1.000e+00 1.000e+02]\n",
      " [1.552e+03 3.000e+00 1.000e+00 1.600e+01]\n",
      " [1.953e+03 3.000e+00 2.000e+00 1.600e+01]\n",
      " [1.224e+03 2.000e+00 2.000e+00 1.200e+01]\n",
      " [1.616e+03 3.000e+00 1.000e+00 1.600e+01]\n",
      " [8.160e+02 2.000e+00 1.000e+00 5.800e+01]\n",
      " [1.349e+03 3.000e+00 1.000e+00 2.100e+01]\n",
      " [1.571e+03 3.000e+00 1.000e+00 1.400e+01]\n",
      " [1.486e+03 3.000e+00 1.000e+00 5.700e+01]\n",
      " [1.506e+03 2.000e+00 1.000e+00 1.600e+01]\n",
      " [1.097e+03 3.000e+00 1.000e+00 2.700e+01]\n",
      " [1.764e+03 3.000e+00 2.000e+00 2.400e+01]\n",
      " [1.208e+03 2.000e+00 1.000e+00 1.400e+01]\n",
      " [1.470e+03 3.000e+00 2.000e+00 2.400e+01]\n",
      " [1.768e+03 3.000e+00 2.000e+00 8.400e+01]\n",
      " [1.654e+03 3.000e+00 1.000e+00 1.900e+01]\n",
      " [1.029e+03 3.000e+00 1.000e+00 6.000e+01]\n",
      " [1.120e+03 2.000e+00 2.000e+00 1.600e+01]\n",
      " [1.150e+03 3.000e+00 1.000e+00 6.200e+01]\n",
      " [8.160e+02 2.000e+00 1.000e+00 3.900e+01]\n",
      " [1.040e+03 3.000e+00 1.000e+00 2.500e+01]\n",
      " [1.392e+03 3.000e+00 1.000e+00 6.400e+01]\n",
      " [1.603e+03 3.000e+00 2.000e+00 2.900e+01]\n",
      " [1.215e+03 3.000e+00 1.000e+00 6.300e+01]\n",
      " [1.073e+03 2.000e+00 1.000e+00 1.000e+02]\n",
      " [2.599e+03 4.000e+00 2.000e+00 2.200e+01]\n",
      " [1.431e+03 3.000e+00 1.000e+00 5.900e+01]\n",
      " [2.090e+03 3.000e+00 2.000e+00 2.600e+01]\n",
      " [1.790e+03 4.000e+00 2.000e+00 4.900e+01]\n",
      " [1.484e+03 3.000e+00 2.000e+00 1.600e+01]\n",
      " [1.040e+03 3.000e+00 1.000e+00 2.500e+01]\n",
      " [1.431e+03 3.000e+00 1.000e+00 2.200e+01]\n",
      " [1.159e+03 3.000e+00 1.000e+00 5.300e+01]\n",
      " [1.547e+03 3.000e+00 2.000e+00 1.200e+01]\n",
      " [1.983e+03 3.000e+00 2.000e+00 2.200e+01]\n",
      " [1.056e+03 3.000e+00 1.000e+00 5.300e+01]\n",
      " [1.180e+03 2.000e+00 1.000e+00 9.900e+01]\n",
      " [1.358e+03 2.000e+00 1.000e+00 1.700e+01]\n",
      " [9.600e+02 3.000e+00 1.000e+00 5.100e+01]\n",
      " [1.456e+03 3.000e+00 2.000e+00 1.600e+01]\n",
      " [1.446e+03 3.000e+00 2.000e+00 2.500e+01]\n",
      " [1.208e+03 2.000e+00 1.000e+00 1.500e+01]\n",
      " [1.553e+03 3.000e+00 2.000e+00 1.600e+01]\n",
      " [8.820e+02 3.000e+00 1.000e+00 4.900e+01]\n",
      " [2.030e+03 4.000e+00 2.000e+00 4.500e+01]\n",
      " [1.040e+03 3.000e+00 1.000e+00 6.200e+01]\n",
      " [1.616e+03 3.000e+00 1.000e+00 1.600e+01]\n",
      " [8.030e+02 2.000e+00 1.000e+00 8.000e+01]\n",
      " [1.430e+03 3.000e+00 2.000e+00 2.100e+01]\n",
      " [1.656e+03 3.000e+00 1.000e+00 6.100e+01]\n",
      " [1.541e+03 3.000e+00 1.000e+00 1.600e+01]\n",
      " [9.480e+02 3.000e+00 1.000e+00 5.300e+01]\n",
      " [1.224e+03 2.000e+00 2.000e+00 1.200e+01]\n",
      " [1.432e+03 2.000e+00 1.000e+00 4.300e+01]\n",
      " [1.660e+03 3.000e+00 2.000e+00 1.900e+01]\n",
      " [1.212e+03 3.000e+00 1.000e+00 2.000e+01]\n",
      " [1.050e+03 2.000e+00 1.000e+00 6.500e+01]]\n"
     ]
    }
   ],
   "source": [
    "# load the dataset\n",
    "X_train, y_train = load_house_data()\n",
    "X_features = ['size(sqft)','bedrooms','floors','age']\n"
   ]
  },
  {
   "cell_type": "code",
   "execution_count": 7,
   "metadata": {},
   "outputs": [
    {
     "data": {
      "text/html": [
       "<style>#sk-container-id-2 {color: black;background-color: white;}#sk-container-id-2 pre{padding: 0;}#sk-container-id-2 div.sk-toggleable {background-color: white;}#sk-container-id-2 label.sk-toggleable__label {cursor: pointer;display: block;width: 100%;margin-bottom: 0;padding: 0.3em;box-sizing: border-box;text-align: center;}#sk-container-id-2 label.sk-toggleable__label-arrow:before {content: \"▸\";float: left;margin-right: 0.25em;color: #696969;}#sk-container-id-2 label.sk-toggleable__label-arrow:hover:before {color: black;}#sk-container-id-2 div.sk-estimator:hover label.sk-toggleable__label-arrow:before {color: black;}#sk-container-id-2 div.sk-toggleable__content {max-height: 0;max-width: 0;overflow: hidden;text-align: left;background-color: #f0f8ff;}#sk-container-id-2 div.sk-toggleable__content pre {margin: 0.2em;color: black;border-radius: 0.25em;background-color: #f0f8ff;}#sk-container-id-2 input.sk-toggleable__control:checked~div.sk-toggleable__content {max-height: 200px;max-width: 100%;overflow: auto;}#sk-container-id-2 input.sk-toggleable__control:checked~label.sk-toggleable__label-arrow:before {content: \"▾\";}#sk-container-id-2 div.sk-estimator input.sk-toggleable__control:checked~label.sk-toggleable__label {background-color: #d4ebff;}#sk-container-id-2 div.sk-label input.sk-toggleable__control:checked~label.sk-toggleable__label {background-color: #d4ebff;}#sk-container-id-2 input.sk-hidden--visually {border: 0;clip: rect(1px 1px 1px 1px);clip: rect(1px, 1px, 1px, 1px);height: 1px;margin: -1px;overflow: hidden;padding: 0;position: absolute;width: 1px;}#sk-container-id-2 div.sk-estimator {font-family: monospace;background-color: #f0f8ff;border: 1px dotted black;border-radius: 0.25em;box-sizing: border-box;margin-bottom: 0.5em;}#sk-container-id-2 div.sk-estimator:hover {background-color: #d4ebff;}#sk-container-id-2 div.sk-parallel-item::after {content: \"\";width: 100%;border-bottom: 1px solid gray;flex-grow: 1;}#sk-container-id-2 div.sk-label:hover label.sk-toggleable__label {background-color: #d4ebff;}#sk-container-id-2 div.sk-serial::before {content: \"\";position: absolute;border-left: 1px solid gray;box-sizing: border-box;top: 0;bottom: 0;left: 50%;z-index: 0;}#sk-container-id-2 div.sk-serial {display: flex;flex-direction: column;align-items: center;background-color: white;padding-right: 0.2em;padding-left: 0.2em;position: relative;}#sk-container-id-2 div.sk-item {position: relative;z-index: 1;}#sk-container-id-2 div.sk-parallel {display: flex;align-items: stretch;justify-content: center;background-color: white;position: relative;}#sk-container-id-2 div.sk-item::before, #sk-container-id-2 div.sk-parallel-item::before {content: \"\";position: absolute;border-left: 1px solid gray;box-sizing: border-box;top: 0;bottom: 0;left: 50%;z-index: -1;}#sk-container-id-2 div.sk-parallel-item {display: flex;flex-direction: column;z-index: 1;position: relative;background-color: white;}#sk-container-id-2 div.sk-parallel-item:first-child::after {align-self: flex-end;width: 50%;}#sk-container-id-2 div.sk-parallel-item:last-child::after {align-self: flex-start;width: 50%;}#sk-container-id-2 div.sk-parallel-item:only-child::after {width: 0;}#sk-container-id-2 div.sk-dashed-wrapped {border: 1px dashed gray;margin: 0 0.4em 0.5em 0.4em;box-sizing: border-box;padding-bottom: 0.4em;background-color: white;}#sk-container-id-2 div.sk-label label {font-family: monospace;font-weight: bold;display: inline-block;line-height: 1.2em;}#sk-container-id-2 div.sk-label-container {text-align: center;}#sk-container-id-2 div.sk-container {/* jupyter's `normalize.less` sets `[hidden] { display: none; }` but bootstrap.min.css set `[hidden] { display: none !important; }` so we also need the `!important` here to be able to override the default hidden behavior on the sphinx rendered scikit-learn.org. See: https://github.com/scikit-learn/scikit-learn/issues/21755 */display: inline-block !important;position: relative;}#sk-container-id-2 div.sk-text-repr-fallback {display: none;}</style><div id=\"sk-container-id-2\" class=\"sk-top-container\"><div class=\"sk-text-repr-fallback\"><pre>LinearRegression()</pre><b>In a Jupyter environment, please rerun this cell to show the HTML representation or trust the notebook. <br />On GitHub, the HTML representation is unable to render, please try loading this page with nbviewer.org.</b></div><div class=\"sk-container\" hidden><div class=\"sk-item\"><div class=\"sk-estimator sk-toggleable\"><input class=\"sk-toggleable__control sk-hidden--visually\" id=\"sk-estimator-id-2\" type=\"checkbox\" checked><label for=\"sk-estimator-id-2\" class=\"sk-toggleable__label sk-toggleable__label-arrow\">LinearRegression</label><div class=\"sk-toggleable__content\"><pre>LinearRegression()</pre></div></div></div></div></div>"
      ],
      "text/plain": [
       "LinearRegression()"
      ]
     },
     "execution_count": 7,
     "metadata": {},
     "output_type": "execute_result"
    }
   ],
   "source": [
    "linear_model = LinearRegression()\n",
    "linear_model.fit(X_train, y_train) "
   ]
  },
  {
   "cell_type": "code",
   "execution_count": 8,
   "metadata": {},
   "outputs": [
    {
     "name": "stdout",
     "output_type": "stream",
     "text": [
      "w = [  0.269 -32.62  -67.255  -1.473], b = 220.42\n"
     ]
    }
   ],
   "source": [
    "b = linear_model.intercept_\n",
    "w = linear_model.coef_\n",
    "print(f\"w = {w:}, b = {b:0.2f}\")"
   ]
  },
  {
   "cell_type": "code",
   "execution_count": 9,
   "metadata": {},
   "outputs": [
    {
     "name": "stdout",
     "output_type": "stream",
     "text": [
      "Prediction on training set:\n",
      " [295.176 485.978 389.524 492.147]\n",
      "prediction using w,b:\n",
      " [295.176 485.978 389.524 492.147]\n",
      "Target values \n",
      " [300.  509.8 394.  540. ]\n",
      " predicted price of a house with 1200 sqft, 3 bedrooms, 1 floor, 40 years old = $318709.09\n"
     ]
    }
   ],
   "source": [
    "print(f\"Prediction on training set:\\n {linear_model.predict(X_train)[:4]}\" )\n",
    "print(f\"prediction using w,b:\\n {(X_train @ w + b)[:4]}\")\n",
    "print(f\"Target values \\n {y_train[:4]}\")\n",
    "\n",
    "x_house = np.array([1200, 3,1, 40]).reshape(-1,4)\n",
    "x_house_predict = linear_model.predict(x_house)[0]\n",
    "print(f\" predicted price of a house with 1200 sqft, 3 bedrooms, 1 floor, 40 years old = ${x_house_predict*1000:0.2f}\")"
   ]
  },
  {
   "cell_type": "markdown",
   "metadata": {},
   "source": [
    "## Congratulations!\n",
    "In this lab you:\n",
    "- utilized an open-source machine learning toolkit, scikit-learn\n",
    "- implemented linear regression using a close-form solution from that toolkit"
   ]
  },
  {
   "cell_type": "code",
   "execution_count": null,
   "metadata": {},
   "outputs": [],
   "source": []
  }
 ],
 "metadata": {
  "kernelspec": {
   "display_name": "Python 3.9.7 ('pytorch')",
   "language": "python",
   "name": "python3"
  },
  "language_info": {
   "codemirror_mode": {
    "name": "ipython",
    "version": 3
   },
   "file_extension": ".py",
   "mimetype": "text/x-python",
   "name": "python",
   "nbconvert_exporter": "python",
   "pygments_lexer": "ipython3",
   "version": "3.9.7"
  },
  "vscode": {
   "interpreter": {
    "hash": "55d67c997976fc4618a0f0b88730a6be8b8c6ee452a68784bd62013f3fba1adf"
   }
  }
 },
 "nbformat": 4,
 "nbformat_minor": 5
}
